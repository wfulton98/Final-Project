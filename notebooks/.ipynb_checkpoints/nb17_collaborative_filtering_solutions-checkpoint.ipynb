{
 "cells": [
  {
   "cell_type": "markdown",
   "metadata": {},
   "source": [
    "# Notebook 17: Collaborative Filtering\n",
    "***\n",
    "\n",
    "During lecture, we discussed Collaborative Filtering, a common method for making user recommendations and estimating unknown user ratings for new items they have not yet rated/tried. An important step in collaborative filtering is to determine the $k$ items in our data set most similar to a given item; this is the $k$-nearest neighbors problem. To solve it efficiently, we will introduce and practice using the `NearestNeighbors` method from the ubitquitous Scikit-learn (`sklearn`) package.\n",
    "\n",
    "We'll need numpy, Pandas and the Scikit-learn NearestNeighbors packages for this notebook, so let's load them."
   ]
  },
  {
   "cell_type": "code",
   "execution_count": 2,
   "metadata": {},
   "outputs": [],
   "source": [
    "import numpy as np\n",
    "import pandas as pd\n",
    "from sklearn.neighbors import NearestNeighbors"
   ]
  },
  {
   "cell_type": "markdown",
   "metadata": {},
   "source": [
    "<br>\n",
    "\n",
    "### Exercise 1: Meeting your neighbors\n",
    "\n",
    "Suppose we have a data set consisting of four users and their ratings (0 = hate it, 10 = love it) for three candy bars as follows:"
   ]
  },
  {
   "cell_type": "code",
   "execution_count": 3,
   "metadata": {},
   "outputs": [
    {
     "data": {
      "text/html": [
       "<div>\n",
       "<style scoped>\n",
       "    .dataframe tbody tr th:only-of-type {\n",
       "        vertical-align: middle;\n",
       "    }\n",
       "\n",
       "    .dataframe tbody tr th {\n",
       "        vertical-align: top;\n",
       "    }\n",
       "\n",
       "    .dataframe thead th {\n",
       "        text-align: right;\n",
       "    }\n",
       "</style>\n",
       "<table border=\"1\" class=\"dataframe\">\n",
       "  <thead>\n",
       "    <tr style=\"text-align: right;\">\n",
       "      <th></th>\n",
       "      <th>George</th>\n",
       "      <th>Jeanne</th>\n",
       "      <th>Kathy</th>\n",
       "      <th>Rich</th>\n",
       "    </tr>\n",
       "  </thead>\n",
       "  <tbody>\n",
       "    <tr>\n",
       "      <th>Whatchamacallit</th>\n",
       "      <td>0</td>\n",
       "      <td>3</td>\n",
       "      <td>5</td>\n",
       "      <td>9</td>\n",
       "    </tr>\n",
       "    <tr>\n",
       "      <th>Milky Way</th>\n",
       "      <td>9</td>\n",
       "      <td>5</td>\n",
       "      <td>6</td>\n",
       "      <td>4</td>\n",
       "    </tr>\n",
       "    <tr>\n",
       "      <th>Almond Joy</th>\n",
       "      <td>7</td>\n",
       "      <td>10</td>\n",
       "      <td>1</td>\n",
       "      <td>4</td>\n",
       "    </tr>\n",
       "  </tbody>\n",
       "</table>\n",
       "</div>"
      ],
      "text/plain": [
       "                 George  Jeanne  Kathy  Rich\n",
       "Whatchamacallit       0       3      5     9\n",
       "Milky Way             9       5      6     4\n",
       "Almond Joy            7      10      1     4"
      ]
     },
     "execution_count": 3,
     "metadata": {},
     "output_type": "execute_result"
    }
   ],
   "source": [
    "dfCandy = pd.DataFrame({\"Jeanne\" : [3, 5, 10],\n",
    "                        \"George\" : [0, 9, 7],\n",
    "                        \"Kathy\" : [5, 6, 1],\n",
    "                        \"Rich\" : [9, 4, 4]})\n",
    "\n",
    "# These are the candy bars corresponding to the rows of the data frame\n",
    "treats = [\"Whatchamacallit\", \"Milky Way\", \"Almond Joy\"]\n",
    "dfCandy.rename({0 : treats[0], 1 : treats[1], 2 : treats[2]}, inplace=True)\n",
    "\n",
    "dfCandy.head()"
   ]
  },
  {
   "cell_type": "markdown",
   "metadata": {},
   "source": [
    "Finish the following function to compute the distances from a given user in a DataFrame to each other user, and return the indices of the $k$ users with the lowest distances to the given user. You can either write your own function to compute Euclidean distance or use the `numpy.linalg.norm` function.\n",
    "\n",
    "As a brief test, the distances from Jeanne to each of the users are: `[0, 5.83, 9.27, 8.54]`"
   ]
  },
  {
   "cell_type": "code",
   "execution_count": 4,
   "metadata": {},
   "outputs": [],
   "source": [
    "def neighbors(df, user, k=1):\n",
    "    '''\n",
    "    Loop over all users and compute the distance to the input user.\n",
    "    Return the indices/names of the k nearest other users as a list.\n",
    "    '''\n",
    "    distances = [0, 0, 0, 0] # TODO\n",
    "    # TODO -- probably some other calculations\n",
    "    return nearest"
   ]
  },
  {
   "cell_type": "code",
   "execution_count": 5,
   "metadata": {},
   "outputs": [],
   "source": [
    "# SOLUTION:\n",
    "\n",
    "def neighbors(df, user, k=1):\n",
    "    '''\n",
    "    Loop over all users and compute the distance to the input user.\n",
    "    Return the indices/names of the k nearest other users as a list.\n",
    "    '''\n",
    "    distances = [np.linalg.norm(df[user] - df[u]) for u in df.columns]\n",
    "    distances_sorted = np.sort(distances)[1:k+1]\n",
    "    nearest = [distances.index(distances_sorted[i]) for i in range(k)]\n",
    "    return nearest"
   ]
  },
  {
   "cell_type": "markdown",
   "metadata": {},
   "source": [
    "Suppose a new user, Elizabeth, is considering trying a Whatchamacallit bar, and has "
   ]
  },
  {
   "cell_type": "markdown",
   "metadata": {},
   "source": [
    "<br>\n",
    "\n",
    "### Exercise 2: Item-item collaborative filtering\n",
    "\n",
    "Our homemade code for finding the $k$ nearest neighbors from **Exercise 1** is good and all, but - as with most things - there are some nice Python packages that can also take care of this in a more efficient manner. The homemade approach will become less and less efficient as the size of our utility matrix grows, so let's explore using Scikit-learn's [`NearestNeighbors`](https://scikit-learn.org/stable/modules/generated/sklearn.neighbors.NearestNeighbors.html#sklearn.neighbors.NearestNeighbors) methods.\n",
    "\n",
    "Suppose we have a set of movies A-F and 12 users given by the utility matrix below (and from lecture)."
   ]
  },
  {
   "cell_type": "code",
   "execution_count": 6,
   "metadata": {},
   "outputs": [
    {
     "data": {
      "text/html": [
       "<div>\n",
       "<style scoped>\n",
       "    .dataframe tbody tr th:only-of-type {\n",
       "        vertical-align: middle;\n",
       "    }\n",
       "\n",
       "    .dataframe tbody tr th {\n",
       "        vertical-align: top;\n",
       "    }\n",
       "\n",
       "    .dataframe thead th {\n",
       "        text-align: right;\n",
       "    }\n",
       "</style>\n",
       "<table border=\"1\" class=\"dataframe\">\n",
       "  <thead>\n",
       "    <tr style=\"text-align: right;\">\n",
       "      <th></th>\n",
       "      <th>0</th>\n",
       "      <th>1</th>\n",
       "      <th>2</th>\n",
       "      <th>3</th>\n",
       "      <th>4</th>\n",
       "      <th>5</th>\n",
       "      <th>6</th>\n",
       "      <th>7</th>\n",
       "      <th>8</th>\n",
       "      <th>9</th>\n",
       "      <th>10</th>\n",
       "      <th>11</th>\n",
       "    </tr>\n",
       "  </thead>\n",
       "  <tbody>\n",
       "    <tr>\n",
       "      <th>A</th>\n",
       "      <td>1</td>\n",
       "      <td>0</td>\n",
       "      <td>3</td>\n",
       "      <td>0</td>\n",
       "      <td>0</td>\n",
       "      <td>5</td>\n",
       "      <td>0</td>\n",
       "      <td>0</td>\n",
       "      <td>5</td>\n",
       "      <td>0</td>\n",
       "      <td>4</td>\n",
       "      <td>0</td>\n",
       "    </tr>\n",
       "    <tr>\n",
       "      <th>B</th>\n",
       "      <td>0</td>\n",
       "      <td>0</td>\n",
       "      <td>5</td>\n",
       "      <td>4</td>\n",
       "      <td>0</td>\n",
       "      <td>0</td>\n",
       "      <td>4</td>\n",
       "      <td>0</td>\n",
       "      <td>0</td>\n",
       "      <td>2</td>\n",
       "      <td>1</td>\n",
       "      <td>3</td>\n",
       "    </tr>\n",
       "    <tr>\n",
       "      <th>C</th>\n",
       "      <td>2</td>\n",
       "      <td>4</td>\n",
       "      <td>0</td>\n",
       "      <td>1</td>\n",
       "      <td>2</td>\n",
       "      <td>0</td>\n",
       "      <td>3</td>\n",
       "      <td>0</td>\n",
       "      <td>4</td>\n",
       "      <td>3</td>\n",
       "      <td>5</td>\n",
       "      <td>0</td>\n",
       "    </tr>\n",
       "    <tr>\n",
       "      <th>D</th>\n",
       "      <td>0</td>\n",
       "      <td>2</td>\n",
       "      <td>4</td>\n",
       "      <td>0</td>\n",
       "      <td>5</td>\n",
       "      <td>0</td>\n",
       "      <td>0</td>\n",
       "      <td>4</td>\n",
       "      <td>0</td>\n",
       "      <td>0</td>\n",
       "      <td>2</td>\n",
       "      <td>0</td>\n",
       "    </tr>\n",
       "    <tr>\n",
       "      <th>E</th>\n",
       "      <td>0</td>\n",
       "      <td>0</td>\n",
       "      <td>4</td>\n",
       "      <td>3</td>\n",
       "      <td>4</td>\n",
       "      <td>2</td>\n",
       "      <td>0</td>\n",
       "      <td>0</td>\n",
       "      <td>0</td>\n",
       "      <td>0</td>\n",
       "      <td>2</td>\n",
       "      <td>5</td>\n",
       "    </tr>\n",
       "    <tr>\n",
       "      <th>F</th>\n",
       "      <td>1</td>\n",
       "      <td>0</td>\n",
       "      <td>3</td>\n",
       "      <td>0</td>\n",
       "      <td>3</td>\n",
       "      <td>0</td>\n",
       "      <td>0</td>\n",
       "      <td>2</td>\n",
       "      <td>0</td>\n",
       "      <td>0</td>\n",
       "      <td>4</td>\n",
       "      <td>0</td>\n",
       "    </tr>\n",
       "  </tbody>\n",
       "</table>\n",
       "</div>"
      ],
      "text/plain": [
       "   0   1   2   3   4   5   6   7   8   9   10  11\n",
       "A   1   0   3   0   0   5   0   0   5   0   4   0\n",
       "B   0   0   5   4   0   0   4   0   0   2   1   3\n",
       "C   2   4   0   1   2   0   3   0   4   3   5   0\n",
       "D   0   2   4   0   5   0   0   4   0   0   2   0\n",
       "E   0   0   4   3   4   2   0   0   0   0   2   5\n",
       "F   1   0   3   0   3   0   0   2   0   0   4   0"
      ]
     },
     "execution_count": 6,
     "metadata": {},
     "output_type": "execute_result"
    }
   ],
   "source": [
    "movies = [[1,0,3,0,0,5,0,0,5,0,4,0],\n",
    "          [0,0,5,4,0,0,4,0,0,2,1,3],\n",
    "          [2,4,0,1,2,0,3,0,4,3,5,0],\n",
    "          [0,2,4,0,5,0,0,4,0,0,2,0],\n",
    "          [0,0,4,3,4,2,0,0,0,0,2,5],\n",
    "          [1,0,3,0,3,0,0,2,0,0,4,0]]\n",
    "\n",
    "dfM = pd.DataFrame(movies)\n",
    "dfM.rename({0:\"A\",1:\"B\",2:\"C\",3:\"D\",4:\"E\",5:\"F\"}, inplace=True)\n",
    "dfM.head(6)\n"
   ]
  },
  {
   "cell_type": "markdown",
   "metadata": {},
   "source": [
    "We can start by setting up a `NearestNeighbors` object to find the two nearest neighbors to a given data point."
   ]
  },
  {
   "cell_type": "code",
   "execution_count": 7,
   "metadata": {},
   "outputs": [],
   "source": [
    "# Set up a NearestNeighbors object to find the two nearest neighbors\n",
    "neigh = NearestNeighbors(n_neighbors=2)"
   ]
  },
  {
   "cell_type": "markdown",
   "metadata": {},
   "source": [
    "Then we need to fit the model to the movies data set. Without suppressing the output, we can also see some of the specifics of the NearestNeighbors object that was fit."
   ]
  },
  {
   "cell_type": "code",
   "execution_count": 8,
   "metadata": {},
   "outputs": [
    {
     "data": {
      "text/plain": [
       "NearestNeighbors(algorithm='auto', leaf_size=30, metric='minkowski',\n",
       "         metric_params=None, n_jobs=1, n_neighbors=2, p=2, radius=1.0)"
      ]
     },
     "execution_count": 8,
     "metadata": {},
     "output_type": "execute_result"
    }
   ],
   "source": [
    "# Fit the model based on the movies data\n",
    "neigh.fit(movies)  \n",
    "#note: fitting off movies array instead of df here, because by default kNN will exclude the point from\n",
    "#its own nearest neighbors, as we might want!\n"
   ]
  },
  {
   "cell_type": "markdown",
   "metadata": {},
   "source": [
    "We can have a quick check on if our method is working properly by checking what the nearest neighbors of Movie A are. The first array in the output contains the distances to the neighbors, and the second array provides the indices within the data set of the nearest points. If we ask for the nearest points to a movie that's actually in the data set, what should the closest neighbor always be? Let's check!"
   ]
  },
  {
   "cell_type": "code",
   "execution_count": 18,
   "metadata": {},
   "outputs": [
    {
     "name": "stdout",
     "output_type": "stream",
     "text": [
      "0     1\n",
      "1     0\n",
      "2     3\n",
      "3     0\n",
      "4     0\n",
      "5     5\n",
      "6     0\n",
      "7     0\n",
      "8     5\n",
      "9     0\n",
      "10    4\n",
      "11    0\n",
      "Name: A, dtype: int64\n",
      "(array([[0.        , 7.93725393]]), array([[0, 5]], dtype=int64))\n"
     ]
    },
    {
     "name": "stderr",
     "output_type": "stream",
     "text": [
      "C:\\Users\\zacha\\Anaconda3\\lib\\site-packages\\numpy\\core\\fromnumeric.py:52: FutureWarning: reshape is deprecated and will raise in a subsequent release. Please use .values.reshape(...) instead\n",
      "  return getattr(obj, method)(*args, **kwds)\n",
      "C:\\Users\\zacha\\Anaconda3\\lib\\site-packages\\ipykernel_launcher.py:6: FutureWarning: reshape is deprecated and will raise in a subsequent release. Please use .values.reshape(...) instead\n",
      "  \n"
     ]
    },
    {
     "data": {
      "text/plain": [
       "array([[1, 0, 3, 0, 0, 5, 0, 0, 5, 0, 4, 0]], dtype=int64)"
      ]
     },
     "execution_count": 18,
     "metadata": {},
     "output_type": "execute_result"
    }
   ],
   "source": [
    "# What movie is most similar to movie A?\n",
    "print(dfM.loc[\"A\",:])\n",
    "print(neigh.kneighbors(np.reshape(dfM.loc[\"A\",:], (1,-1))))  \n",
    "\n",
    "#print(neigh.kneighbors(dfM.loc[\"A\",:]))\n",
    "dfM.loc[\"A\",:].reshape((1,-1))"
   ]
  },
  {
   "cell_type": "markdown",
   "metadata": {},
   "source": [
    "Now that was using all of the data. Modify the code above to only use the movies also rated by User 5 for fitting the `NearestNeighbors` model. The `loc` method for Pandas DataFrames will be userful here."
   ]
  },
  {
   "cell_type": "code",
   "execution_count": 21,
   "metadata": {},
   "outputs": [
    {
     "name": "stdout",
     "output_type": "stream",
     "text": [
      "(array([[7.93725393, 8.71779789]]), array([[3, 0]], dtype=int64))\n"
     ]
    },
    {
     "name": "stderr",
     "output_type": "stream",
     "text": [
      "C:\\Users\\zacha\\Anaconda3\\lib\\site-packages\\ipykernel_launcher.py:10: FutureWarning: reshape is deprecated and will raise in a subsequent release. Please use .values.reshape(...) instead\n",
      "  # Remove the CWD from sys.path while we load stuff.\n"
     ]
    }
   ],
   "source": [
    "# SOLUTION:\n",
    "\n",
    "# Set up a NearestNeighbors object to find the two nearest neighbors\n",
    "neigh = NearestNeighbors(n_neighbors=2)\n",
    "\n",
    "# Fit the model based on the movies data\n",
    "neigh.fit(dfM.loc[dfM.iloc[:,4] != 0,:])\n",
    "\n",
    "# What movie is most similar to movie A?\n",
    "print(neigh.kneighbors(dfM.loc[\"A\",:].reshape((1,-1)))) "
   ]
  },
  {
   "cell_type": "markdown",
   "metadata": {},
   "source": [
    "In the previous steps, you may have noticed that the distances computed are \"[minkowski](https://en.wikipedia.org/wiki/Minkowski_distance)\", which can correspond to either Manhattan distance or Euclidean distance. "
   ]
  },
  {
   "cell_type": "code",
   "execution_count": 22,
   "metadata": {},
   "outputs": [
    {
     "name": "stdout",
     "output_type": "stream",
     "text": [
      "NearestNeighbors(algorithm='auto', leaf_size=30, metric='minkowski',\n",
      "         metric_params=None, n_jobs=1, n_neighbors=2, p=2, radius=1.0)\n"
     ]
    }
   ],
   "source": [
    "print(neigh)"
   ]
  },
  {
   "cell_type": "markdown",
   "metadata": {},
   "source": [
    "Neither of these are what we used in lecture, which is the cosine distance. Check out the [Scikit-learn documentation on `NearestNeighbors`](https://scikit-learn.org/stable/modules/generated/sklearn.neighbors.NearestNeighbors.html#sklearn.neighbors.NearestNeighbors) and make a modification to use the cosine distance instead. Note that the only algorithm option that works with the cosine distance is `algorithm=\"brute\"`."
   ]
  },
  {
   "cell_type": "code",
   "execution_count": 26,
   "metadata": {},
   "outputs": [
    {
     "name": "stdout",
     "output_type": "stream",
     "text": [
      "(array([[0.47434252, 0.52243307]]), array([[0, 3]], dtype=int64))\n"
     ]
    },
    {
     "name": "stderr",
     "output_type": "stream",
     "text": [
      "C:\\Users\\zacha\\Anaconda3\\lib\\site-packages\\ipykernel_launcher.py:10: FutureWarning: reshape is deprecated and will raise in a subsequent release. Please use .values.reshape(...) instead\n",
      "  # Remove the CWD from sys.path while we load stuff.\n"
     ]
    }
   ],
   "source": [
    "# SOLUTION:\n",
    "\n",
    "# Set up a NearestNeighbors object to find the two nearest neighbors\n",
    "neigh = NearestNeighbors(n_neighbors=2, metric=\"cosine\", algorithm=\"brute\")\n",
    "\n",
    "# Fit the model based on the movies data\n",
    "neigh.fit(dfM.loc[dfM.iloc[:,4] != 0,:])\n",
    "\n",
    "# What movie is most similar to movie A?\n",
    "print(neigh.kneighbors(dfM.loc[\"A\",:].reshape((1,-1))))"
   ]
  },
  {
   "cell_type": "markdown",
   "metadata": {},
   "source": [
    "**Question:** It's close, but why doesn't this match what we saw in class? Perform a calculation that accounts for the difference and recompute the two nearest neighbors to Movie A and their distances. After that, they should match what we saw in lecture, and the world will be complete."
   ]
  },
  {
   "cell_type": "markdown",
   "metadata": {},
   "source": [
    "**Solution:**\n",
    "\n",
    "We need to ***center*** the ratings for each item first by substracting from each row the item's mean rating (not including 0s)."
   ]
  },
  {
   "cell_type": "code",
   "execution_count": 31,
   "metadata": {},
   "outputs": [
    {
     "data": {
      "text/html": [
       "<div>\n",
       "<style scoped>\n",
       "    .dataframe tbody tr th:only-of-type {\n",
       "        vertical-align: middle;\n",
       "    }\n",
       "\n",
       "    .dataframe tbody tr th {\n",
       "        vertical-align: top;\n",
       "    }\n",
       "\n",
       "    .dataframe thead th {\n",
       "        text-align: right;\n",
       "    }\n",
       "</style>\n",
       "<table border=\"1\" class=\"dataframe\">\n",
       "  <thead>\n",
       "    <tr style=\"text-align: right;\">\n",
       "      <th></th>\n",
       "      <th>0</th>\n",
       "      <th>1</th>\n",
       "      <th>2</th>\n",
       "      <th>3</th>\n",
       "      <th>4</th>\n",
       "      <th>5</th>\n",
       "      <th>6</th>\n",
       "      <th>7</th>\n",
       "      <th>8</th>\n",
       "      <th>9</th>\n",
       "      <th>10</th>\n",
       "      <th>11</th>\n",
       "    </tr>\n",
       "  </thead>\n",
       "  <tbody>\n",
       "    <tr>\n",
       "      <th>A</th>\n",
       "      <td>-2.6</td>\n",
       "      <td>0.0</td>\n",
       "      <td>-0.600000</td>\n",
       "      <td>0.000000</td>\n",
       "      <td>0.000000</td>\n",
       "      <td>1.400000</td>\n",
       "      <td>0.000000</td>\n",
       "      <td>0.0</td>\n",
       "      <td>1.4</td>\n",
       "      <td>0.000000</td>\n",
       "      <td>0.400000</td>\n",
       "      <td>0.000000</td>\n",
       "    </tr>\n",
       "    <tr>\n",
       "      <th>B</th>\n",
       "      <td>0.0</td>\n",
       "      <td>0.0</td>\n",
       "      <td>1.833333</td>\n",
       "      <td>0.833333</td>\n",
       "      <td>0.000000</td>\n",
       "      <td>0.000000</td>\n",
       "      <td>0.833333</td>\n",
       "      <td>0.0</td>\n",
       "      <td>0.0</td>\n",
       "      <td>-1.166667</td>\n",
       "      <td>-2.166667</td>\n",
       "      <td>-0.166667</td>\n",
       "    </tr>\n",
       "    <tr>\n",
       "      <th>C</th>\n",
       "      <td>-1.0</td>\n",
       "      <td>1.0</td>\n",
       "      <td>0.000000</td>\n",
       "      <td>-2.000000</td>\n",
       "      <td>-1.000000</td>\n",
       "      <td>0.000000</td>\n",
       "      <td>0.000000</td>\n",
       "      <td>0.0</td>\n",
       "      <td>1.0</td>\n",
       "      <td>0.000000</td>\n",
       "      <td>2.000000</td>\n",
       "      <td>0.000000</td>\n",
       "    </tr>\n",
       "    <tr>\n",
       "      <th>D</th>\n",
       "      <td>0.0</td>\n",
       "      <td>-1.4</td>\n",
       "      <td>0.600000</td>\n",
       "      <td>0.000000</td>\n",
       "      <td>1.600000</td>\n",
       "      <td>0.000000</td>\n",
       "      <td>0.000000</td>\n",
       "      <td>0.6</td>\n",
       "      <td>0.0</td>\n",
       "      <td>0.000000</td>\n",
       "      <td>-1.400000</td>\n",
       "      <td>0.000000</td>\n",
       "    </tr>\n",
       "    <tr>\n",
       "      <th>E</th>\n",
       "      <td>0.0</td>\n",
       "      <td>0.0</td>\n",
       "      <td>0.666667</td>\n",
       "      <td>-0.333333</td>\n",
       "      <td>0.666667</td>\n",
       "      <td>-1.333333</td>\n",
       "      <td>0.000000</td>\n",
       "      <td>0.0</td>\n",
       "      <td>0.0</td>\n",
       "      <td>0.000000</td>\n",
       "      <td>-1.333333</td>\n",
       "      <td>1.666667</td>\n",
       "    </tr>\n",
       "    <tr>\n",
       "      <th>F</th>\n",
       "      <td>-1.6</td>\n",
       "      <td>0.0</td>\n",
       "      <td>0.400000</td>\n",
       "      <td>0.000000</td>\n",
       "      <td>0.400000</td>\n",
       "      <td>0.000000</td>\n",
       "      <td>0.000000</td>\n",
       "      <td>-0.6</td>\n",
       "      <td>0.0</td>\n",
       "      <td>0.000000</td>\n",
       "      <td>1.400000</td>\n",
       "      <td>0.000000</td>\n",
       "    </tr>\n",
       "  </tbody>\n",
       "</table>\n",
       "</div>"
      ],
      "text/plain": [
       "    0    1         2         3         4         5         6    7    8   \\\n",
       "A -2.6  0.0 -0.600000  0.000000  0.000000  1.400000  0.000000  0.0  1.4   \n",
       "B  0.0  0.0  1.833333  0.833333  0.000000  0.000000  0.833333  0.0  0.0   \n",
       "C -1.0  1.0  0.000000 -2.000000 -1.000000  0.000000  0.000000  0.0  1.0   \n",
       "D  0.0 -1.4  0.600000  0.000000  1.600000  0.000000  0.000000  0.6  0.0   \n",
       "E  0.0  0.0  0.666667 -0.333333  0.666667 -1.333333  0.000000  0.0  0.0   \n",
       "F -1.6  0.0  0.400000  0.000000  0.400000  0.000000  0.000000 -0.6  0.0   \n",
       "\n",
       "         9         10        11  \n",
       "A  0.000000  0.400000  0.000000  \n",
       "B -1.166667 -2.166667 -0.166667  \n",
       "C  0.000000  2.000000  0.000000  \n",
       "D  0.000000 -1.400000  0.000000  \n",
       "E  0.000000 -1.333333  1.666667  \n",
       "F  0.000000  1.400000  0.000000  "
      ]
     },
     "execution_count": 31,
     "metadata": {},
     "output_type": "execute_result"
    }
   ],
   "source": [
    "# SOLUTION:\n",
    "\n",
    "def center(dfRow):\n",
    "    subtract = dfRow.loc[dfRow != 0].mean()\n",
    "    dfRow.loc[dfRow != 0] -= subtract\n",
    "    return dfRow\n",
    "\n",
    "dfM_centered = dfM\n",
    "dfM_centered = dfM_centered.apply(center, axis=1)\n",
    "dfM_centered.head(6)"
   ]
  },
  {
   "cell_type": "code",
   "execution_count": 34,
   "metadata": {},
   "outputs": [
    {
     "name": "stdout",
     "output_type": "stream",
     "text": [
      "(array([[0.60264029, 0.73842582]]), array([[0, 3]], dtype=int64))\n"
     ]
    },
    {
     "name": "stderr",
     "output_type": "stream",
     "text": [
      "C:\\Users\\zacha\\Anaconda3\\lib\\site-packages\\numpy\\core\\fromnumeric.py:52: FutureWarning: reshape is deprecated and will raise in a subsequent release. Please use .values.reshape(...) instead\n",
      "  return getattr(obj, method)(*args, **kwds)\n"
     ]
    }
   ],
   "source": [
    "# SOLUTION:\n",
    "\n",
    "# Set up a NearestNeighbors object to find the two nearest neighbors\n",
    "neigh = NearestNeighbors(n_neighbors=2, metric=\"cosine\", algorithm=\"brute\")\n",
    "\n",
    "# Fit the model based on the movies data\n",
    "neigh.fit(dfM_centered.loc[dfM_centered.iloc[:,4] != 0,:])\n",
    "\n",
    "# What movie is most similar to movie A?\n",
    "print(neigh.kneighbors(np.reshape(dfM.loc[\"A\",:], (1,-1))))"
   ]
  },
  {
   "cell_type": "code",
   "execution_count": null,
   "metadata": {},
   "outputs": [],
   "source": []
  }
 ],
 "metadata": {
  "kernelspec": {
   "display_name": "Python 3",
   "language": "python",
   "name": "python3"
  },
  "language_info": {
   "codemirror_mode": {
    "name": "ipython",
    "version": 3
   },
   "file_extension": ".py",
   "mimetype": "text/x-python",
   "name": "python",
   "nbconvert_exporter": "python",
   "pygments_lexer": "ipython3",
   "version": "3.7.3"
  }
 },
 "nbformat": 4,
 "nbformat_minor": 2
}
